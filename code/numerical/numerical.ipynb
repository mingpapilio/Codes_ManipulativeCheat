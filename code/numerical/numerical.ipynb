{
 "cells": [
  {
   "cell_type": "code",
   "execution_count": 6,
   "metadata": {},
   "outputs": [
    {
     "data": {
      "image/png": "[encoded data removed]",
      "text/plain": [
       "<Figure size 432x288 with 1 Axes>"
      ]
     },
     "metadata": {
      "needs_background": "light"
     },
     "output_type": "display_data"
    }
   ],
   "source": [
    "import numpy as np\n",
    "import matplotlib.pyplot as plt\n",
    "\n",
    "# Inclusive-Fitness Effects\n",
    "def IFz(z,x,u,Rs,Rns,a,b):\n",
    "  return ( 1-z-x-u ) * ( 1- (1-Rns)*(1-np.power(u,b))*np.power(x,a)- Rs) / z - Rs\n",
    "def IFx(z,x,u,Rs,Rns,a,b):\n",
    "  return ( 1-z-x-u ) * (1- Rns) * (1- np.power(u,b)) * a * np.power(x,a-1) - Rs\n",
    "def IFu(z,x,u,Rs,Rns,a,b):\n",
    "  return ( 1-z-x-u ) * (1- Rns) * np.power(x,a) * b * np.power(u,b-1) - Rs\n",
    "\n",
    "# Evolve population forward in time\n",
    "def TimeSeries(Rsz,Rnsz,Rsx,Rnsx,Rsu,Rnsu,a,b,step,tf):\n",
    "  # initialize\n",
    "  z = 0.1\n",
    "  x = 0.1\n",
    "  u = 0.1\n",
    "  # set up the matrix\n",
    "  dat = np.empty(shape=(int(tf/step),4),dtype=float)\n",
    "  dat[0,:]=np.array([z,x,u,(1-z-x-u)])\n",
    "  # iterations\n",
    "  for t in range(1,int(tf/step)):\n",
    "    ## Check the values of z,x,u before calculating the new trait values\n",
    "    if z + x + u > 1:\n",
    "      cost = z + x + u\n",
    "      z = z / cost\n",
    "      x = x / cost \n",
    "      u = u / cost \n",
    "      # now group productivity is zero\n",
    "    ## Calculating new trait values\n",
    "    znew = z + step * IFz(z,x,u,Rsz,Rnsz,a,b)\n",
    "    xnew = x + step * IFx(z,x,u,Rsx,Rnsx,a,b)\n",
    "    unew = u + step * IFu(z,x,u,Rsu,Rnsu,a,b)\n",
    "    ## Dealing with out-of-boundary values\n",
    "    znew = np.clip(znew,1E-6,1)\n",
    "    xnew = np.clip(xnew,1E-6,1)\n",
    "    unew = np.clip(unew,1E-6,1)\n",
    "    ## Updating trait values\n",
    "    z = znew\n",
    "    x = xnew\n",
    "    u = unew\n",
    "    dat[t,:]=np.array([z,x,u,(1-z-x-u)])\n",
    "  return dat\n",
    "\n",
    "# Set up parameters\n",
    "Rns= np.linspace(0,0.7,num=71)\n",
    "Rs = ( 1/99 ) + ( 98/99 ) * Rns ### assuming group size is 99\n",
    "a= 1.0/2\n",
    "b= 1.0/2\n",
    "tf = 100\n",
    "step = 1e-02/4\n",
    "log= np.empty(shape=(Rns.size,5),dtype=float)\n",
    "# Create log file\n",
    "out= open('out.txt','w')\n",
    "out.write(\"R\\tz\\tx\\tu\\tgrp_fit\\t\\n\")\n",
    "# Execution\n",
    "for i in range(0, Rns.size):\n",
    "  yvals = TimeSeries(Rs[i],Rns[i],Rs[i],Rns[i],Rs[i],Rns[i],a,b,step,tf)\n",
    "  out.write(\"%f\\t\" % Rns[i])\n",
    "  for item in yvals[int(tf/step-1),:]:\n",
    "    out.write(\"%f\\t\" % item)\n",
    "  out.write(\"\\n\")\n",
    "  log[i,0]= Rns[i]\n",
    "  log[i,1:5]=yvals[int(tf/step-1),:]\n",
    "# Closing the file\n",
    "out.close()\n",
    "\n",
    "# Plotting\n",
    "plt.xlabel(\"R\",fontsize=14)\n",
    "plt.axis((0,0.7,0,1))\n",
    "plt.plot(Rns, log[:,1], '-r', label=r'$z$') \n",
    "plt.plot(Rns, log[:,2], '-b', label=r'$x$')\n",
    "plt.plot(Rns, log[:,3], '-g', label=r'$u$')\n",
    "#plt.plot(tvals, yvals[:,3], '--k', label='group productivity') \n",
    "plt.legend(loc=(0.75,0.75))\n",
    "plt.savefig('a0.5_b0.5.pdf')\n",
    "plt.show()"
   ]
  }
 ],
 "metadata": {
  "interpreter": {
   "hash": "311473e5b9939a4a80c4c654d941aa0416c11c89ecff344aa6af32ed93bb748b"
  },
  "kernelspec": {
   "display_name": "Python 3.9.7 64-bit ('env-01')",
   "language": "python",
   "name": "python3"
  },
  "language_info": {
   "codemirror_mode": {
    "name": "ipython",
    "version": 3
   },
   "file_extension": ".py",
   "mimetype": "text/x-python",
   "name": "python",
   "nbconvert_exporter": "python",
   "pygments_lexer": "ipython3",
   "version": "3.9.7"
  },
  "orig_nbformat": 4
 },
 "nbformat": 4,
 "nbformat_minor": 2
}
